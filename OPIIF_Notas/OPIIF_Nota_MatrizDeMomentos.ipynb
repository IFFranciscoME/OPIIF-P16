{
 "cells": [
  {
   "cell_type": "markdown",
   "metadata": {},
   "source": [
    "## Matriz Móvil de Momentos Estadísticos "
   ]
  },
  {
   "cell_type": "markdown",
   "metadata": {},
   "source": [
    "En el siguiente renglón se accede al código en GitHub que es utilizado para descargar los precios históricos de los activos y se calculan los rendimientos. En los objetos **Rendimientos**"
   ]
  },
  {
   "cell_type": "code",
   "execution_count": 3,
   "metadata": {
    "collapsed": false
   },
   "outputs": [
    {
     "name": "stdout",
     "output_type": "stream",
     "text": [
      "\f"
     ]
    },
    {
     "name": "stderr",
     "output_type": "stream",
     "text": [
      "Loading required package: timeDate\n",
      "Loading required package: timeSeries\n",
      "\n",
      "\n",
      "Rmetrics Package fBasics\n",
      "Analysing Markets and calculating Basic Statistics\n",
      "Copyright (C) 2005-2014 Rmetrics Association Zurich\n",
      "Educational Software for Financial Engineering and Computational Science\n",
      "Rmetrics is free software and comes with ABSOLUTELY NO WARRANTY.\n",
      "https://www.rmetrics.org --- Mail to: info@rmetrics.org\n",
      "Loading required package: xts\n",
      "Loading required package: zoo\n",
      "\n",
      "Attaching package: ‘zoo’\n",
      "\n",
      "The following object is masked from ‘package:timeSeries’:\n",
      "\n",
      "    time<-\n",
      "\n",
      "The following objects are masked from ‘package:base’:\n",
      "\n",
      "    as.Date, as.Date.numeric\n",
      "\n",
      "\n",
      "Attaching package: ‘PerformanceAnalytics’\n",
      "\n",
      "The following objects are masked from ‘package:timeDate’:\n",
      "\n",
      "    kurtosis, skewness\n",
      "\n",
      "The following object is masked from ‘package:graphics’:\n",
      "\n",
      "    legend\n",
      "\n",
      "Loading required package: TTR\n",
      "\n",
      "Attaching package: ‘TTR’\n",
      "\n",
      "The following object is masked from ‘package:fBasics’:\n",
      "\n",
      "    volatility\n",
      "\n",
      "Version 0.4-0 included new data defaults. See ?getSymbols.\n",
      "pausing 1 second between requests for more than 5 symbols\n",
      "pausing 1 second between requests for more than 5 symbols\n",
      "pausing 1 second between requests for more than 5 symbols\n",
      "pausing 1 second between requests for more than 5 symbols\n",
      "pausing 1 second between requests for more than 5 symbols\n",
      "pausing 1 second between requests for more than 5 symbols\n",
      "pausing 1 second between requests for more than 5 symbols\n",
      "pausing 1 second between requests for more than 5 symbols\n",
      "pausing 1 second between requests for more than 5 symbols\n",
      "pausing 1 second between requests for more than 5 symbols\n",
      "pausing 1 second between requests for more than 5 symbols\n",
      "pausing 1 second between requests for more than 5 symbols\n",
      "pausing 1 second between requests for more than 5 symbols\n",
      "pausing 1 second between requests for more than 5 symbols\n",
      "pausing 1 second between requests for more than 5 symbols\n",
      "pausing 1 second between requests for more than 5 symbols\n",
      "pausing 1 second between requests for more than 5 symbols\n",
      "pausing 1 second between requests for more than 5 symbols\n",
      "pausing 1 second between requests for more than 5 symbols\n",
      "pausing 1 second between requests for more than 5 symbols\n",
      "pausing 1 second between requests for more than 5 symbols\n",
      "pausing 1 second between requests for more than 5 symbols\n",
      "pausing 1 second between requests for more than 5 symbols\n",
      "pausing 1 second between requests for more than 5 symbols\n",
      "pausing 1 second between requests for more than 5 symbols\n",
      "pausing 1 second between requests for more than 5 symbols\n",
      "pausing 1 second between requests for more than 5 symbols\n",
      "pausing 1 second between requests for more than 5 symbols\n",
      "pausing 1 second between requests for more than 5 symbols\n"
     ]
    }
   ],
   "source": [
    "RawGitHub <- \"https://raw.githubusercontent.com/ITESOIF/OPIIF-P16/\"\n",
    "OPIIF_Datos <- paste(RawGitHub,\"master/OPIIF_Datos/OPIIF_Datos.r\",sep = \"\")\n",
    "downloader::source_url(OPIIF_Datos,prompt=FALSE,quiet=TRUE)"
   ]
  },
  {
   "cell_type": "code",
   "execution_count": 5,
   "metadata": {
    "collapsed": false
   },
   "outputs": [
    {
     "ename": "ERROR",
     "evalue": "Error in as.POSIXlt.default(x, tz = tz(x)): do not know how to convert 'x' to class “POSIXlt”\n",
     "output_type": "error",
     "traceback": [
      "Error in as.POSIXlt.default(x, tz = tz(x)): do not know how to convert 'x' to class “POSIXlt”\n"
     ]
    },
    {
     "ename": "ERROR",
     "evalue": "Error in as.POSIXlt.default(x, tz = tz(x)): do not know how to convert 'x' to class “POSIXlt”\n",
     "output_type": "error",
     "traceback": [
      "Error in as.POSIXlt.default(x, tz = tz(x)): do not know how to convert 'x' to class “POSIXlt”\n"
     ]
    }
   ],
   "source": [
    "DfRends <- Rendimientos\n",
    "NumActivos <- length(DfRends[1,])-1\n",
    "Years   <- unique(year(DfRends$Index))\n",
    "Months  <- unique(month(DfRends$Index))\n",
    "EstadMens  <- data.frame(matrix(ncol = NumActivos+1, nrow = 5))\n",
    "row.names(EstadMens) <- c(\"Media\",\"Varianza\",\"DesvEst\",\"Sesgo\",\"Kurtosis\")"
   ]
  },
  {
   "cell_type": "code",
   "execution_count": null,
   "metadata": {
    "collapsed": true
   },
   "outputs": [],
   "source": []
  }
 ],
 "metadata": {
  "kernelspec": {
   "display_name": "R",
   "language": "R",
   "name": "ir"
  },
  "language_info": {
   "codemirror_mode": "r",
   "file_extension": ".r",
   "mimetype": "text/x-r-source",
   "name": "R",
   "pygments_lexer": "r",
   "version": "3.2.2"
  }
 },
 "nbformat": 4,
 "nbformat_minor": 0
}
