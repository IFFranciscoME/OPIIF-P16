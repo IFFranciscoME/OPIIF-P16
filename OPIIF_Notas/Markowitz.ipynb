{
 "cells": [
  {
   "cell_type": "markdown",
   "metadata": {},
   "source": [
    "# Optimización de Programas de Inversión"
   ]
  },
  {
   "cell_type": "markdown",
   "metadata": {},
   "source": [
    "Nota Breve: Introducción a la Teoría Moderna de Portafolios."
   ]
  },
  {
   "cell_type": "markdown",
   "metadata": {},
   "source": [
    "Harry Markowitz publicó en 1952 un trabajo \"Selección de portafolios\" el cual después sería referido como \"La theoria modernade portafolios\". En el cual especificaba "
   ]
  },
  {
   "cell_type": "markdown",
   "metadata": {},
   "source": [
    "Introduction Portfolio theory deals with the problem of constructing for a given collection of assets an investment with desirable features. A variety of different asset characteristics can be taken into consideration, such as the amount of value, on average, an asset returns on over a period of time and the riskiness of reaping returns comparable to the average. The financial objectives of the investor and tolerance of risk determine what types of portfolios are to be considered desirable."
   ]
  },
  {
   "cell_type": "markdown",
   "metadata": {},
   "source": [
    "Portafolio con 2 activos:"
   ]
  },
  {
   "cell_type": "markdown",
   "metadata": {},
   "source": [
    "Valor Esperado (Media):"
   ]
  },
  {
   "cell_type": "markdown",
   "metadata": {},
   "source": [
    "Riesgo (Desviación Estándar):"
   ]
  },
  {
   "cell_type": "code",
   "execution_count": 4,
   "metadata": {
    "collapsed": false
   },
   "outputs": [
    {
     "data": {
      "text/html": [
       "<ol class=list-inline>\n",
       "\t<li>'AC.MX'</li>\n",
       "\t<li>'ALFAA.MX'</li>\n",
       "</ol>\n"
      ],
      "text/latex": [
       "\\begin{enumerate*}\n",
       "\\item 'AC.MX'\n",
       "\\item 'ALFAA.MX'\n",
       "\\end{enumerate*}\n"
      ],
      "text/markdown": [
       "1. 'AC.MX'\n",
       "2. 'ALFAA.MX'\n",
       "\n",
       "\n"
      ],
      "text/plain": [
       "[1] \"AC.MX\"    \"ALFAA.MX\""
      ]
     },
     "execution_count": 4,
     "metadata": {},
     "output_type": "execute_result"
    }
   ],
   "source": [
    "library(quantmod)\n",
    "library(PerformanceAnalytics)\n",
    "Tickers  <- c(\"AC.MX\",\"ALFAA.MX\")\n",
    "getSymbols(Tickers, from=\"2014-01-01\", to=\"2016-02-01\")\n",
    "ClosePrices  <- do.call(merge, lapply(Tickers, function(x) Cl(get(x))))\n",
    "TotalBMV <- na.omit(ClosePrices)\n",
    "Rendimientos <- round(Return.calculate(TotalBMV, method = \"discrete\")[-1],4)\n",
    "Rendimientos <- Rendimientos[complete.cases(Rendimientos)]"
   ]
  },
  {
   "cell_type": "code",
   "execution_count": null,
   "metadata": {
    "collapsed": true
   },
   "outputs": [],
   "source": []
  }
 ],
 "metadata": {
  "kernelspec": {
   "display_name": "R",
   "language": "R",
   "name": "ir"
  },
  "language_info": {
   "codemirror_mode": "r",
   "file_extension": ".r",
   "mimetype": "text/x-r-source",
   "name": "R",
   "pygments_lexer": "r",
   "version": "3.2.2"
  }
 },
 "nbformat": 4,
 "nbformat_minor": 0
}
