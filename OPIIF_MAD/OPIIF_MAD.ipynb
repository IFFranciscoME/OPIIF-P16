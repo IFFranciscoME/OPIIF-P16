{
 "cells": [
  {
   "cell_type": "markdown",
   "metadata": {},
   "source": [
    "## PAP: Optimización de Programas de Inversión en Intermediarios Financieros."
   ]
  },
  {
   "cell_type": "markdown",
   "metadata": {},
   "source": [
    "### *Medidas de Atribución al Desempeño.*"
   ]
  },
  {
   "cell_type": "markdown",
   "metadata": {},
   "source": [
    "#### Código de inicialización"
   ]
  },
  {
   "cell_type": "code",
   "execution_count": 12,
   "metadata": {
    "collapsed": false
   },
   "outputs": [
    {
     "name": "stdout",
     "output_type": "stream",
     "text": [
      "\f"
     ]
    }
   ],
   "source": [
    "rm(list=ls())         # Remover objetos del environment\n",
    "cat(\"\\014\")           # Limpiar la Consola\n",
    "\n",
    "Pkg <- c(\"base\",\"fBasics\",\"grid\",\"httr\",\"lubridate\",\"tseries\",\"PerformanceAnalytics\",\n",
    "         \"quantmod\",\"xts\",\"XLConnect\",\"zoo\")\n",
    "\n",
    "inst <- Pkg %in% installed.packages()\n",
    "if(length(Pkg[!inst]) > 0) install.packages(Pkg[!inst])\n",
    "instpackages <- lapply(Pkg, library, character.only=TRUE)"
   ]
  },
  {
   "cell_type": "markdown",
   "metadata": {},
   "source": [
    "#### Especificación de activos y fechas para precios históricos"
   ]
  },
  {
   "cell_type": "code",
   "execution_count": 17,
   "metadata": {
    "collapsed": false,
    "scrolled": true
   },
   "outputs": [
    {
     "data": {
      "text/html": [
       "<ol class=list-inline>\n",
       "\t<li>'MXX'</li>\n",
       "\t<li>'OM-RVMXB.MX'</li>\n",
       "</ol>\n"
      ],
      "text/latex": [
       "\\begin{enumerate*}\n",
       "\\item 'MXX'\n",
       "\\item 'OM-RVMXB.MX'\n",
       "\\end{enumerate*}\n"
      ],
      "text/markdown": [
       "1. 'MXX'\n",
       "2. 'OM-RVMXB.MX'\n",
       "\n",
       "\n"
      ],
      "text/plain": [
       "[1] \"MXX\"         \"OM-RVMXB.MX\""
      ]
     },
     "execution_count": 17,
     "metadata": {},
     "output_type": "execute_result"
    }
   ],
   "source": [
    "# -- ------------------------------------- Peticion de descarga de precios de cierre -- #\n",
    "\n",
    "Nombres <- c(\"MXX\",\"OM-RVMXB.MX\")\n",
    "getSymbols(c(\"^MXX\",\"OM-RVMXB.MX\"), from=\"2014-01-01\", to=\"2016-02-01\")"
   ]
  },
  {
   "cell_type": "markdown",
   "metadata": {},
   "source": [
    "#### Obtención de precios de cierre y rendimientos"
   ]
  },
  {
   "cell_type": "code",
   "execution_count": 18,
   "metadata": {
    "collapsed": false
   },
   "outputs": [],
   "source": [
    "# -- -------------------------- Concatenar todos los precios y eliminar filas con NA -- #\n",
    "\n",
    "ClosePrices <- do.call(merge, lapply(Nombres, function(x) Cl(get(x))))\n",
    "TotalBMV <- na.omit(ClosePrices)\n",
    "\n",
    "# -- -------------------------------------------- Calcular rendimientos logaritmicos -- #\n",
    "\n",
    "Rendimientos <- round(Return.calculate(TotalBMV, method = \"discrete\")[-1],4)\n",
    "Rendimientos <- Rendimientos[complete.cases(Rendimientos)]\n",
    "\n",
    "rm(list = Tickers)  # Eliminar de memoria objetos con precios individuales"
   ]
  },
  {
   "cell_type": "code",
   "execution_count": null,
   "metadata": {
    "collapsed": true
   },
   "outputs": [],
   "source": []
  }
 ],
 "metadata": {
  "kernelspec": {
   "display_name": "R",
   "language": "R",
   "name": "ir"
  },
  "language_info": {
   "codemirror_mode": "r",
   "file_extension": ".r",
   "mimetype": "text/x-r-source",
   "name": "R",
   "pygments_lexer": "r",
   "version": "3.2.2"
  }
 },
 "nbformat": 4,
 "nbformat_minor": 0
}
